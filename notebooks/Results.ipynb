{
 "cells": [
  {
   "cell_type": "markdown",
   "id": "3b99690e",
   "metadata": {},
   "source": [
    "### 1. Student Performance Factors"
   ]
  },
  {
   "cell_type": "markdown",
   "id": "650ae4e6",
   "metadata": {},
   "source": [
    "<img src=\"./images/StudentPerformanceFactors/performance_metrics.PNG\" width=\"400px\" />"
   ]
  },
  {
   "cell_type": "markdown",
   "id": "1747635b",
   "metadata": {},
   "source": [
    "#### 1.1 Linear Regression"
   ]
  },
  {
   "cell_type": "markdown",
   "id": "651a1625",
   "metadata": {},
   "source": [
    "<img src=\"./images/StudentPerformanceFactors/linreg_feature_importance.png\" width=\"1000px\" />"
   ]
  },
  {
   "cell_type": "markdown",
   "id": "3a9fde54",
   "metadata": {},
   "source": [
    "#### 1.2 Decision Tree"
   ]
  },
  {
   "cell_type": "markdown",
   "id": "84317bf2",
   "metadata": {},
   "source": [
    "<img src=\"./images/StudentPerformanceFactors/dt_feature_importance.png\" width=\"1000px\" />"
   ]
  },
  {
   "cell_type": "markdown",
   "id": "ddfb66c4",
   "metadata": {},
   "source": [
    "#### 1.3 Permutation Importance for Random Forest Model"
   ]
  },
  {
   "cell_type": "markdown",
   "id": "75dda336",
   "metadata": {},
   "source": [
    "<img src=\"./images/StudentPerformanceFactors/rf_permutation_feature_importance.png\" width=\"1000px\" />"
   ]
  },
  {
   "cell_type": "markdown",
   "id": "e3cdf541",
   "metadata": {},
   "source": [
    "#### 1.4 LIME for Random Forest Model"
   ]
  },
  {
   "cell_type": "markdown",
   "id": "4a5c3629",
   "metadata": {},
   "source": [
    "<img src=\"./images/StudentPerformanceFactors/rf_lime_explanation.png\" width=\"1000px\" />"
   ]
  },
  {
   "cell_type": "markdown",
   "id": "847bf9c7",
   "metadata": {},
   "source": [
    "#### 1.5 SHAP for Random Forest Model"
   ]
  },
  {
   "cell_type": "markdown",
   "id": "e99574b6",
   "metadata": {},
   "source": [
    "<img src=\"./images/StudentPerformanceFactors/rf_shap_summary.png\" width=\"1000px\" />"
   ]
  },
  {
   "cell_type": "markdown",
   "id": "3bdcb24b",
   "metadata": {},
   "source": [
    "<img src=\"./images/StudentPerformanceFactors/rf_shap_local.png\" width=\"1000px\" />"
   ]
  },
  {
   "cell_type": "markdown",
   "id": "5f93eede",
   "metadata": {},
   "source": [
    "### 2. Dropout Prediction"
   ]
  },
  {
   "cell_type": "markdown",
   "id": "4975977c",
   "metadata": {},
   "source": [
    "<img src=\"./images/DropoutPrediction/performance_metrics.png\" width=\"400px\" />"
   ]
  },
  {
   "cell_type": "markdown",
   "id": "ec155b5b",
   "metadata": {},
   "source": [
    "#### 2.1 Logistic Regression"
   ]
  },
  {
   "cell_type": "markdown",
   "id": "542b344e",
   "metadata": {},
   "source": [
    "<img src=\"./images/DropoutPrediction/logreg_feature_importance.png\" width=\"1000px\" />"
   ]
  },
  {
   "cell_type": "markdown",
   "id": "4dd8663e",
   "metadata": {},
   "source": [
    "#### 2.2 Decision Tree"
   ]
  },
  {
   "cell_type": "markdown",
   "id": "f9c8f5d7",
   "metadata": {},
   "source": [
    "<img src=\"./images/DropoutPrediction/dt_feature_importance.png\" width=\"1000px\" />"
   ]
  },
  {
   "cell_type": "markdown",
   "id": "7c10e5f4",
   "metadata": {},
   "source": [
    "#### 2.3 Permutation Importance for Random Forest Model"
   ]
  },
  {
   "cell_type": "markdown",
   "id": "020e0d70",
   "metadata": {},
   "source": [
    "<img src=\"./images/DropoutPrediction/rf_permutation_feature_importance.png\" width=\"1000px\" />"
   ]
  },
  {
   "cell_type": "markdown",
   "id": "1b431422",
   "metadata": {},
   "source": [
    "#### 2.4 LIME for Random Forest Model"
   ]
  },
  {
   "cell_type": "markdown",
   "id": "2d1e5826",
   "metadata": {},
   "source": [
    "<img src=\"./images/DropoutPrediction/rf_lime_explanation.png\" width=\"1000px\" />"
   ]
  },
  {
   "cell_type": "markdown",
   "id": "83afbdf5",
   "metadata": {},
   "source": [
    "#### 2.5 SHAP for Random Forest Model"
   ]
  },
  {
   "cell_type": "markdown",
   "id": "acd9b75a",
   "metadata": {},
   "source": [
    "<img src=\"./images/DropoutPrediction/rf_global_shap.png\" width=\"1000px\" />"
   ]
  },
  {
   "cell_type": "markdown",
   "id": "09a67401",
   "metadata": {},
   "source": [
    "<img src=\"./images/DropoutPrediction/rf_local_shap_class0.png\" width=\"1000px\" />"
   ]
  },
  {
   "cell_type": "markdown",
   "id": "5516d4ea",
   "metadata": {},
   "source": [
    "<img src=\"./images/DropoutPrediction/rf_local_shap_class1.png\" width=\"1000px\" />"
   ]
  },
  {
   "cell_type": "markdown",
   "id": "dc486c2b",
   "metadata": {},
   "source": [
    "### 3. Students Adaptability Level in Online Education"
   ]
  },
  {
   "cell_type": "markdown",
   "id": "7a95a0bb",
   "metadata": {},
   "source": [
    "<img src=\"./images/StudentsAdaptabilityLevel/performance_metrics.png\" width=\"400px\" />"
   ]
  },
  {
   "cell_type": "markdown",
   "id": "162a1cac",
   "metadata": {},
   "source": [
    "#### 3.1 Logistic Regression"
   ]
  },
  {
   "cell_type": "markdown",
   "id": "fdf6193d",
   "metadata": {},
   "source": [
    "<img src=\"./images/StudentsAdaptabilityLevel/logreg_feature_importance.png\" width=\"1000px\" />"
   ]
  },
  {
   "cell_type": "markdown",
   "id": "d2cb8031",
   "metadata": {},
   "source": [
    "#### 3.2 Decision Tree"
   ]
  },
  {
   "cell_type": "markdown",
   "id": "97103894",
   "metadata": {},
   "source": [
    "<img src=\"./images/StudentsAdaptabilityLevel/dt_feature_importance.png\" width=\"1000px\" />"
   ]
  },
  {
   "cell_type": "markdown",
   "id": "dd2a3cdf",
   "metadata": {},
   "source": [
    "#### 3.3 Permutation Importance for Random Forest Model"
   ]
  },
  {
   "cell_type": "markdown",
   "id": "2bd2cbe3",
   "metadata": {},
   "source": [
    "<img src=\"./images/StudentsAdaptabilityLevel/rf_permutation_feature_importance.png\" width=\"1000px\" />"
   ]
  },
  {
   "cell_type": "markdown",
   "id": "8d6587ea",
   "metadata": {},
   "source": [
    "#### 3.4 LIME for Random Forest Model"
   ]
  },
  {
   "cell_type": "markdown",
   "id": "2056b0b1",
   "metadata": {},
   "source": [
    "<img src=\"./images/StudentsAdaptabilityLevel/rf_lime_explanation.png\" width=\"1000px\" />"
   ]
  },
  {
   "cell_type": "markdown",
   "id": "a789e8e2",
   "metadata": {},
   "source": [
    "#### 3.1 SHAP for Random Forest Model"
   ]
  },
  {
   "cell_type": "markdown",
   "id": "0bb0be74",
   "metadata": {},
   "source": [
    "<img src=\"./images/StudentsAdaptabilityLevel/rf_global_shap.png\" width=\"1000px\" />"
   ]
  },
  {
   "cell_type": "markdown",
   "id": "0407a2c8",
   "metadata": {},
   "source": [
    "<img src=\"./images/StudentsAdaptabilityLevel/rf_global_shap_class0.png\" width=\"1000px\" />"
   ]
  },
  {
   "cell_type": "markdown",
   "id": "599a1da0",
   "metadata": {},
   "source": [
    "<img src=\"./images/StudentsAdaptabilityLevel/rf_global_shap_class1.png\" width=\"1000px\" />"
   ]
  },
  {
   "cell_type": "markdown",
   "id": "4cc39b83",
   "metadata": {},
   "source": [
    "<img src=\"./images/StudentsAdaptabilityLevel/rf_global_shap_class2.png\" width=\"1000px\" />"
   ]
  },
  {
   "cell_type": "markdown",
   "id": "83cc3ac2",
   "metadata": {},
   "source": [
    "<img src=\"./images/StudentsAdaptabilityLevel/rf_local_shap_class0_i0.png\" width=\"1000px\" />"
   ]
  },
  {
   "cell_type": "markdown",
   "id": "2d4a4f81",
   "metadata": {},
   "source": [
    "<img src=\"./images/StudentsAdaptabilityLevel/rf_local_shap_class1_i0.png\" width=\"1000px\" />"
   ]
  },
  {
   "cell_type": "markdown",
   "id": "1e3c5850",
   "metadata": {},
   "source": [
    "<img src=\"./images/StudentsAdaptabilityLevel/rf_local_shap_class2_i0.png\" width=\"1000px\" />"
   ]
  }
 ],
 "metadata": {
  "language_info": {
   "name": "python"
  }
 },
 "nbformat": 4,
 "nbformat_minor": 5
}
